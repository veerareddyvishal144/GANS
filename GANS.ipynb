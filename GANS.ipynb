{
  "nbformat": 4,
  "nbformat_minor": 0,
  "metadata": {
    "colab": {
      "name": "Untitled0.ipynb",
      "version": "0.3.2",
      "provenance": [],
      "include_colab_link": true
    },
    "kernelspec": {
      "name": "python3",
      "display_name": "Python 3"
    },
    "accelerator": "GPU"
  },
  "cells": [
    {
      "cell_type": "markdown",
      "metadata": {
        "id": "view-in-github",
        "colab_type": "text"
      },
      "source": [
        "<a href=\"https://colab.research.google.com/github/vishalveerareddy/GANS/blob/master/GANS.ipynb\" target=\"_parent\"><img src=\"https://colab.research.google.com/assets/colab-badge.svg\" alt=\"Open In Colab\"/></a>"
      ]
    },
    {
      "cell_type": "code",
      "metadata": {
        "id": "26v_KphYNeWh",
        "colab_type": "code",
        "outputId": "a2a8bb3b-1abd-4265-ddb0-80537540e383",
        "colab": {
          "base_uri": "https://localhost:8080/",
          "height": 34
        }
      },
      "source": [
        "from keras.layers import Input, Reshape, Dropout, Dense, Flatten, BatchNormalization, Activation, ZeroPadding2D\n",
        "from keras.layers.advanced_activations import LeakyReLU\n",
        "from keras.layers.convolutional import UpSampling2D, Conv2D\n",
        "from keras.models import Sequential, Model, load_model\n",
        "from keras.optimizers import Adam\n",
        "import numpy as np\n",
        "from PIL import Image\n",
        "from tqdm import tqdm\n",
        "import os"
      ],
      "execution_count": 0,
      "outputs": [
        {
          "output_type": "stream",
          "text": [
            "Using TensorFlow backend.\n"
          ],
          "name": "stderr"
        }
      ]
    },
    {
      "cell_type": "code",
      "metadata": {
        "id": "NmfiapOCmsJk",
        "colab_type": "code",
        "outputId": "841322f3-f62b-442a-869a-fb184a2fd014",
        "colab": {
          "base_uri": "https://localhost:8080/",
          "height": 122
        }
      },
      "source": [
        "from google.colab import drive\n",
        "drive.mount('/content/drive')"
      ],
      "execution_count": 0,
      "outputs": [
        {
          "output_type": "stream",
          "text": [
            "Go to this URL in a browser: https://accounts.google.com/o/oauth2/auth?client_id=947318989803-6bn6qk8qdgf4n4g3pfee6491hc0brc4i.apps.googleusercontent.com&redirect_uri=urn%3Aietf%3Awg%3Aoauth%3A2.0%3Aoob&scope=email%20https%3A%2F%2Fwww.googleapis.com%2Fauth%2Fdocs.test%20https%3A%2F%2Fwww.googleapis.com%2Fauth%2Fdrive%20https%3A%2F%2Fwww.googleapis.com%2Fauth%2Fdrive.photos.readonly%20https%3A%2F%2Fwww.googleapis.com%2Fauth%2Fpeopleapi.readonly&response_type=code\n",
            "\n",
            "Enter your authorization code:\n",
            "··········\n",
            "Mounted at /content/drive\n"
          ],
          "name": "stdout"
        }
      ]
    },
    {
      "cell_type": "code",
      "metadata": {
        "id": "nzeFEX0YUPge",
        "colab_type": "code",
        "outputId": "2d3027a9-cccb-41d6-85e0-2162052a58c8",
        "colab": {
          "base_uri": "https://localhost:8080/",
          "height": 34
        }
      },
      "source": [
        "GENERATE_RES = 2 # (1=32, 2=64, 3=96, etc.)\n",
        "GENERATE_SQUARE = 32 * GENERATE_RES # rows/cols (should be square)\n",
        "IMAGE_CHANNELS = 3\n",
        "\n",
        "# Preview image \n",
        "PREVIEW_ROWS = 4\n",
        "PREVIEW_COLS = 7\n",
        "PREVIEW_MARGIN = 16\n",
        "SAVE_FREQ = 100\n",
        "\n",
        "# Size vector to generate images from\n",
        "SEED_SIZE = 100\n",
        "\n",
        "# Configuration\n",
        "DATA_PATH = '/content/drive/My Drive/images'\n",
        "EPOCHS = 10000\n",
        "BATCH_SIZE = 32\n",
        "\n",
        "print(f\"Will generate {GENERATE_SQUARE}px square images.\")"
      ],
      "execution_count": 0,
      "outputs": [
        {
          "output_type": "stream",
          "text": [
            "Will generate 64px square images.\n"
          ],
          "name": "stdout"
        }
      ]
    },
    {
      "cell_type": "code",
      "metadata": {
        "id": "4seXlP1Bs3Xb",
        "colab_type": "code",
        "outputId": "c337a71b-fd0a-4144-c2b7-7b50de0eb439",
        "colab": {
          "base_uri": "https://localhost:8080/",
          "height": 85
        }
      },
      "source": [
        "training_binary_path = os.path.join(DATA_PATH,f'training_data_{GENERATE_SQUARE}_{GENERATE_SQUARE}.npy')\n",
        "\n",
        "print(f\"Looking for file: {training_binary_path}\")\n",
        "\n",
        "if not os.path.isfile(training_binary_path):\n",
        "  print(\"Loading training images...\")\n",
        "\n",
        "  training_data = []\n",
        "  faces_path = os.path.join(DATA_PATH)\n",
        "  for filename in tqdm(os.listdir(faces_path)):\n",
        "      path = os.path.join(faces_path,filename)\n",
        "      image = Image.open(path).resize((GENERATE_SQUARE,GENERATE_SQUARE),Image.ANTIALIAS)\n",
        "      training_data.append(np.asarray(image))\n",
        "  training_data = np.reshape(training_data,(-1,GENERATE_SQUARE,GENERATE_SQUARE,IMAGE_CHANNELS))\n",
        "  training_data = training_data / 127.5 - 1.\n",
        "\n",
        "  print(\"Saving training image binary...\")\n",
        "  np.save(training_binary_path,training_data)\n",
        "else:\n",
        "  print(\"Loading previous training pickle...\")\n",
        "  training_data = np.load(training_binary_path)"
      ],
      "execution_count": 0,
      "outputs": [
        {
          "output_type": "stream",
          "text": [
            "\r  0%|          | 0/1532 [00:00<?, ?it/s]"
          ],
          "name": "stderr"
        },
        {
          "output_type": "stream",
          "text": [
            "Looking for file: /content/drive/My Drive/images/training_data_64_64.npy\n",
            "Loading training images...\n"
          ],
          "name": "stdout"
        },
        {
          "output_type": "stream",
          "text": [
            "100%|██████████| 1532/1532 [08:11<00:00,  3.57it/s]\n"
          ],
          "name": "stderr"
        },
        {
          "output_type": "stream",
          "text": [
            "Saving training image binary...\n"
          ],
          "name": "stdout"
        }
      ]
    },
    {
      "cell_type": "code",
      "metadata": {
        "id": "5kewk7Q-t3Xo",
        "colab_type": "code",
        "colab": {}
      },
      "source": [
        "def build_generator(seed_size, channels):\n",
        "    model = Sequential()\n",
        "\n",
        "    model.add(Dense(4*4*256,activation=\"relu\",input_dim=seed_size))\n",
        "    model.add(Reshape((4,4,256)))\n",
        "\n",
        "    model.add(UpSampling2D())\n",
        "    model.add(Conv2D(256,kernel_size=3,padding=\"same\"))\n",
        "    model.add(BatchNormalization(momentum=0.8))\n",
        "    model.add(Activation(\"relu\"))\n",
        "\n",
        "    model.add(UpSampling2D())\n",
        "    model.add(Conv2D(256,kernel_size=3,padding=\"same\"))\n",
        "    model.add(BatchNormalization(momentum=0.8))\n",
        "    model.add(Activation(\"relu\"))\n",
        "   \n",
        "    # Output resolution, additional upsampling\n",
        "    for i in range(GENERATE_RES):\n",
        "      model.add(UpSampling2D())\n",
        "      model.add(Conv2D(128,kernel_size=3,padding=\"same\"))\n",
        "      model.add(BatchNormalization(momentum=0.8))\n",
        "      model.add(Activation(\"relu\"))\n",
        "\n",
        "    # Final CNN layer\n",
        "    model.add(Conv2D(channels,kernel_size=3,padding=\"same\"))\n",
        "    model.add(Activation(\"tanh\"))\n",
        "\n",
        "    input = Input(shape=(seed_size,))\n",
        "    generated_image = model(input)\n",
        "\n",
        "    return Model(input,generated_image)\n",
        "\n",
        "\n",
        "def build_discriminator(image_shape):\n",
        "    model = Sequential()\n",
        "\n",
        "    model.add(Conv2D(32, kernel_size=3, strides=2, input_shape=image_shape, padding=\"same\"))\n",
        "    model.add(LeakyReLU(alpha=0.2))\n",
        "\n",
        "    model.add(Dropout(0.25))\n",
        "    model.add(Conv2D(64, kernel_size=3, strides=2, padding=\"same\"))\n",
        "    model.add(ZeroPadding2D(padding=((0,1),(0,1))))\n",
        "    model.add(BatchNormalization(momentum=0.8))\n",
        "    model.add(LeakyReLU(alpha=0.2))\n",
        "\n",
        "    model.add(Dropout(0.25))\n",
        "    model.add(Conv2D(128, kernel_size=3, strides=2, padding=\"same\"))\n",
        "    model.add(BatchNormalization(momentum=0.8))\n",
        "    model.add(LeakyReLU(alpha=0.2))\n",
        "\n",
        "    model.add(Dropout(0.25))\n",
        "    model.add(Conv2D(256, kernel_size=3, strides=1, padding=\"same\"))\n",
        "    model.add(BatchNormalization(momentum=0.8))\n",
        "    model.add(LeakyReLU(alpha=0.2))\n",
        "\n",
        "    model.add(Dropout(0.25))\n",
        "    model.add(Conv2D(512, kernel_size=3, strides=1, padding=\"same\"))\n",
        "    model.add(BatchNormalization(momentum=0.8))\n",
        "    model.add(LeakyReLU(alpha=0.2))\n",
        "\n",
        "    model.add(Dropout(0.25))\n",
        "    model.add(Flatten())\n",
        "    model.add(Dense(1, activation='sigmoid'))\n",
        "\n",
        "    input_image = Input(shape=image_shape)\n",
        "\n",
        "    validity = model(input_image)\n",
        "\n",
        "    return Model(input_image, validity)\n",
        "  \n",
        "def save_images(cnt,noise):\n",
        "  image_array = np.full(( \n",
        "      PREVIEW_MARGIN + (PREVIEW_ROWS * (GENERATE_SQUARE+PREVIEW_MARGIN)), \n",
        "      PREVIEW_MARGIN + (PREVIEW_COLS * (GENERATE_SQUARE+PREVIEW_MARGIN)), 3), \n",
        "      255, dtype=np.uint8)\n",
        "  \n",
        "  generated_images = generator.predict(noise)\n",
        "\n",
        "  generated_images = 0.5 * generated_images + 0.5\n",
        "\n",
        "  image_count = 0\n",
        "  for row in range(PREVIEW_ROWS):\n",
        "      for col in range(PREVIEW_COLS):\n",
        "        r = row * (GENERATE_SQUARE+16) + PREVIEW_MARGIN\n",
        "        c = col * (GENERATE_SQUARE+16) + PREVIEW_MARGIN\n",
        "        image_array[r:r+GENERATE_SQUARE,c:c+GENERATE_SQUARE] = generated_images[image_count] * 255\n",
        "        image_count += 1\n",
        "\n",
        "          \n",
        "  output_path = os.path.join(DATA_PATH,'output')\n",
        "  if not os.path.exists(output_path):\n",
        "    os.makedirs(output_path)\n",
        "  \n",
        "  filename = os.path.join(output_path,f\"train-{cnt}.png\")\n",
        "  im = Image.fromarray(image_array)\n",
        "  im.save(filename)\n"
      ],
      "execution_count": 0,
      "outputs": []
    },
    {
      "cell_type": "code",
      "metadata": {
        "id": "54IJ0cAKxMZ0",
        "colab_type": "code",
        "outputId": "bcdbf0cf-00a4-4037-8359-7366085bcdb9",
        "colab": {
          "base_uri": "https://localhost:8080/",
          "height": 428
        }
      },
      "source": [
        "image_shape = (GENERATE_SQUARE,GENERATE_SQUARE,IMAGE_CHANNELS)\n",
        "optimizer = Adam(1.5e-4,0.5) # learning rate and momentum adjusted from paper\n",
        "\n",
        "discriminator = build_discriminator(image_shape)\n",
        "discriminator.compile(loss=\"binary_crossentropy\",optimizer=optimizer,metrics=[\"accuracy\"])\n",
        "generator = build_generator(SEED_SIZE,IMAGE_CHANNELS)\n",
        "\n",
        "random_input = Input(shape=(SEED_SIZE,))\n",
        "\n",
        "generated_image = generator(random_input)\n",
        "\n",
        "discriminator.trainable = False\n",
        "\n",
        "validity = discriminator(generated_image)\n",
        "\n",
        "combined = Model(random_input,validity)\n",
        "combined.compile(loss=\"binary_crossentropy\",optimizer=optimizer,metrics=[\"accuracy\"])"
      ],
      "execution_count": 0,
      "outputs": [
        {
          "output_type": "stream",
          "text": [
            "WARNING: Logging before flag parsing goes to stderr.\n",
            "W0819 16:45:37.913660 140060628952960 deprecation_wrapper.py:119] From /usr/local/lib/python3.6/dist-packages/keras/backend/tensorflow_backend.py:74: The name tf.get_default_graph is deprecated. Please use tf.compat.v1.get_default_graph instead.\n",
            "\n",
            "W0819 16:45:37.915960 140060628952960 deprecation_wrapper.py:119] From /usr/local/lib/python3.6/dist-packages/keras/backend/tensorflow_backend.py:517: The name tf.placeholder is deprecated. Please use tf.compat.v1.placeholder instead.\n",
            "\n",
            "W0819 16:45:37.918331 140060628952960 deprecation_wrapper.py:119] From /usr/local/lib/python3.6/dist-packages/keras/backend/tensorflow_backend.py:4138: The name tf.random_uniform is deprecated. Please use tf.random.uniform instead.\n",
            "\n",
            "W0819 16:45:37.953114 140060628952960 deprecation_wrapper.py:119] From /usr/local/lib/python3.6/dist-packages/keras/backend/tensorflow_backend.py:133: The name tf.placeholder_with_default is deprecated. Please use tf.compat.v1.placeholder_with_default instead.\n",
            "\n",
            "W0819 16:45:37.963305 140060628952960 deprecation.py:506] From /usr/local/lib/python3.6/dist-packages/keras/backend/tensorflow_backend.py:3445: calling dropout (from tensorflow.python.ops.nn_ops) with keep_prob is deprecated and will be removed in a future version.\n",
            "Instructions for updating:\n",
            "Please use `rate` instead of `keep_prob`. Rate should be set to `rate = 1 - keep_prob`.\n",
            "W0819 16:45:38.006239 140060628952960 deprecation_wrapper.py:119] From /usr/local/lib/python3.6/dist-packages/keras/backend/tensorflow_backend.py:174: The name tf.get_default_session is deprecated. Please use tf.compat.v1.get_default_session instead.\n",
            "\n",
            "W0819 16:45:41.056672 140060628952960 deprecation_wrapper.py:119] From /usr/local/lib/python3.6/dist-packages/keras/backend/tensorflow_backend.py:1834: The name tf.nn.fused_batch_norm is deprecated. Please use tf.compat.v1.nn.fused_batch_norm instead.\n",
            "\n",
            "W0819 16:45:41.968717 140060628952960 deprecation_wrapper.py:119] From /usr/local/lib/python3.6/dist-packages/keras/optimizers.py:790: The name tf.train.Optimizer is deprecated. Please use tf.compat.v1.train.Optimizer instead.\n",
            "\n",
            "W0819 16:45:41.983799 140060628952960 deprecation.py:323] From /usr/local/lib/python3.6/dist-packages/tensorflow/python/ops/nn_impl.py:180: add_dispatch_support.<locals>.wrapper (from tensorflow.python.ops.array_ops) is deprecated and will be removed in a future version.\n",
            "Instructions for updating:\n",
            "Use tf.where in 2.0, which has the same broadcast rule as np.where\n",
            "W0819 16:45:42.028275 140060628952960 deprecation_wrapper.py:119] From /usr/local/lib/python3.6/dist-packages/keras/backend/tensorflow_backend.py:2018: The name tf.image.resize_nearest_neighbor is deprecated. Please use tf.compat.v1.image.resize_nearest_neighbor instead.\n",
            "\n"
          ],
          "name": "stderr"
        }
      ]
    },
    {
      "cell_type": "code",
      "metadata": {
        "id": "MFRuP5G4xRDL",
        "colab_type": "code",
        "outputId": "1099969a-1b92-4b33-eb8f-928c80ab2309",
        "colab": {
          "base_uri": "https://localhost:8080/",
          "height": 1000
        }
      },
      "source": [
        "y_real = np.ones((BATCH_SIZE,1))\n",
        "y_fake = np.zeros((BATCH_SIZE,1))\n",
        "\n",
        "fixed_seed = np.random.normal(0, 1, (PREVIEW_ROWS * PREVIEW_COLS, SEED_SIZE))\n",
        "\n",
        "cnt = 1\n",
        "for epoch in range(EPOCHS):\n",
        "    idx = np.random.randint(0,training_data.shape[0],BATCH_SIZE)\n",
        "    x_real = training_data[idx]\n",
        "\n",
        "    # Generate some images\n",
        "    seed = np.random.normal(0,1,(BATCH_SIZE,SEED_SIZE))\n",
        "    x_fake = generator.predict(seed)\n",
        "\n",
        "    # Train discriminator on real and fake\n",
        "    discriminator_metric_real = discriminator.train_on_batch(x_real,y_real)\n",
        "    discriminator_metric_generated = discriminator.train_on_batch(x_fake,y_fake)\n",
        "    discriminator_metric = 0.5 * np.add(discriminator_metric_real,discriminator_metric_generated)\n",
        "    \n",
        "    # Train generator on Calculate losses\n",
        "    generator_metric = combined.train_on_batch(seed,y_real)\n",
        "    \n",
        "    # Time for an update?\n",
        "    if epoch % SAVE_FREQ == 0:\n",
        "        save_images(cnt, fixed_seed)\n",
        "        cnt += 1\n",
        "        print(f\"Epoch {epoch}, Discriminator accuarcy: {discriminator_metric[1]}, Generator accuracy: {generator_metric[1]}\")\n",
        "        \n",
        "generator.save(os.path.join(DATA_PATH,\"face_generator.h5\"))\n"
      ],
      "execution_count": 0,
      "outputs": [
        {
          "output_type": "stream",
          "text": [
            "/usr/local/lib/python3.6/dist-packages/keras/engine/training.py:490: UserWarning: Discrepancy between trainable weights and collected trainable weights, did you set `model.trainable` without calling `model.compile` after ?\n",
            "  'Discrepancy between trainable weights and collected trainable'\n",
            "/usr/local/lib/python3.6/dist-packages/keras/engine/training.py:490: UserWarning: Discrepancy between trainable weights and collected trainable weights, did you set `model.trainable` without calling `model.compile` after ?\n",
            "  'Discrepancy between trainable weights and collected trainable'\n"
          ],
          "name": "stderr"
        },
        {
          "output_type": "stream",
          "text": [
            "Epoch 0, Discriminator accuarcy: 0.34375, Generator accuracy: 0.96875\n"
          ],
          "name": "stdout"
        },
        {
          "output_type": "stream",
          "text": [
            "/usr/local/lib/python3.6/dist-packages/keras/engine/training.py:490: UserWarning: Discrepancy between trainable weights and collected trainable weights, did you set `model.trainable` without calling `model.compile` after ?\n",
            "  'Discrepancy between trainable weights and collected trainable'\n"
          ],
          "name": "stderr"
        },
        {
          "output_type": "stream",
          "text": [
            "Epoch 100, Discriminator accuarcy: 0.859375, Generator accuracy: 0.0\n",
            "Epoch 200, Discriminator accuarcy: 0.859375, Generator accuracy: 0.0\n",
            "Epoch 300, Discriminator accuarcy: 0.640625, Generator accuracy: 0.0625\n",
            "Epoch 400, Discriminator accuarcy: 0.703125, Generator accuracy: 0.09375\n",
            "Epoch 500, Discriminator accuarcy: 0.625, Generator accuracy: 0.09375\n",
            "Epoch 600, Discriminator accuarcy: 0.734375, Generator accuracy: 0.0625\n",
            "Epoch 700, Discriminator accuarcy: 0.65625, Generator accuracy: 0.0\n",
            "Epoch 800, Discriminator accuarcy: 0.78125, Generator accuracy: 0.0\n",
            "Epoch 900, Discriminator accuarcy: 0.8125, Generator accuracy: 0.0\n",
            "Epoch 1000, Discriminator accuarcy: 0.703125, Generator accuracy: 0.125\n",
            "Epoch 1100, Discriminator accuarcy: 0.796875, Generator accuracy: 0.0\n",
            "Epoch 1200, Discriminator accuarcy: 0.84375, Generator accuracy: 0.03125\n",
            "Epoch 1300, Discriminator accuarcy: 0.859375, Generator accuracy: 0.03125\n",
            "Epoch 1400, Discriminator accuarcy: 0.734375, Generator accuracy: 0.03125\n",
            "Epoch 1500, Discriminator accuarcy: 0.828125, Generator accuracy: 0.09375\n",
            "Epoch 1600, Discriminator accuarcy: 0.78125, Generator accuracy: 0.1875\n",
            "Epoch 1700, Discriminator accuarcy: 0.765625, Generator accuracy: 0.03125\n",
            "Epoch 1800, Discriminator accuarcy: 0.859375, Generator accuracy: 0.03125\n",
            "Epoch 1900, Discriminator accuarcy: 0.8125, Generator accuracy: 0.125\n",
            "Epoch 2000, Discriminator accuarcy: 0.84375, Generator accuracy: 0.09375\n",
            "Epoch 2100, Discriminator accuarcy: 0.75, Generator accuracy: 0.09375\n",
            "Epoch 2200, Discriminator accuarcy: 0.78125, Generator accuracy: 0.09375\n",
            "Epoch 2300, Discriminator accuarcy: 0.921875, Generator accuracy: 0.03125\n",
            "Epoch 2400, Discriminator accuarcy: 0.8125, Generator accuracy: 0.15625\n",
            "Epoch 2500, Discriminator accuarcy: 0.765625, Generator accuracy: 0.0\n",
            "Epoch 2600, Discriminator accuarcy: 0.84375, Generator accuracy: 0.03125\n",
            "Epoch 2700, Discriminator accuarcy: 0.828125, Generator accuracy: 0.03125\n",
            "Epoch 2800, Discriminator accuarcy: 0.71875, Generator accuracy: 0.0\n",
            "Epoch 2900, Discriminator accuarcy: 0.890625, Generator accuracy: 0.09375\n",
            "Epoch 3000, Discriminator accuarcy: 0.859375, Generator accuracy: 0.125\n",
            "Epoch 3100, Discriminator accuarcy: 0.921875, Generator accuracy: 0.03125\n",
            "Epoch 3200, Discriminator accuarcy: 0.8125, Generator accuracy: 0.0\n",
            "Epoch 3300, Discriminator accuarcy: 0.9375, Generator accuracy: 0.03125\n",
            "Epoch 3400, Discriminator accuarcy: 0.765625, Generator accuracy: 0.0\n",
            "Epoch 3500, Discriminator accuarcy: 0.9375, Generator accuracy: 0.03125\n",
            "Epoch 3600, Discriminator accuarcy: 0.671875, Generator accuracy: 0.0\n",
            "Epoch 3700, Discriminator accuarcy: 0.828125, Generator accuracy: 0.125\n",
            "Epoch 3800, Discriminator accuarcy: 0.90625, Generator accuracy: 0.0625\n",
            "Epoch 3900, Discriminator accuarcy: 0.953125, Generator accuracy: 0.0\n",
            "Epoch 4000, Discriminator accuarcy: 0.859375, Generator accuracy: 0.03125\n",
            "Epoch 4100, Discriminator accuarcy: 0.953125, Generator accuracy: 0.0\n",
            "Epoch 4200, Discriminator accuarcy: 0.90625, Generator accuracy: 0.03125\n",
            "Epoch 4300, Discriminator accuarcy: 0.84375, Generator accuracy: 0.0625\n",
            "Epoch 4400, Discriminator accuarcy: 0.984375, Generator accuracy: 0.0625\n",
            "Epoch 4500, Discriminator accuarcy: 0.8125, Generator accuracy: 0.03125\n",
            "Epoch 4600, Discriminator accuarcy: 0.96875, Generator accuracy: 0.0\n",
            "Epoch 4700, Discriminator accuarcy: 0.953125, Generator accuracy: 0.0\n",
            "Epoch 4800, Discriminator accuarcy: 0.828125, Generator accuracy: 0.0\n",
            "Epoch 4900, Discriminator accuarcy: 0.90625, Generator accuracy: 0.09375\n",
            "Epoch 5000, Discriminator accuarcy: 0.890625, Generator accuracy: 0.03125\n",
            "Epoch 5100, Discriminator accuarcy: 0.859375, Generator accuracy: 0.03125\n",
            "Epoch 5200, Discriminator accuarcy: 0.8125, Generator accuracy: 0.0\n",
            "Epoch 5300, Discriminator accuarcy: 0.921875, Generator accuracy: 0.03125\n",
            "Epoch 5400, Discriminator accuarcy: 0.9375, Generator accuracy: 0.0\n",
            "Epoch 5500, Discriminator accuarcy: 0.90625, Generator accuracy: 0.09375\n",
            "Epoch 5600, Discriminator accuarcy: 0.921875, Generator accuracy: 0.03125\n",
            "Epoch 5700, Discriminator accuarcy: 0.921875, Generator accuracy: 0.09375\n",
            "Epoch 5800, Discriminator accuarcy: 0.8125, Generator accuracy: 0.03125\n",
            "Epoch 5900, Discriminator accuarcy: 0.9375, Generator accuracy: 0.03125\n",
            "Epoch 6000, Discriminator accuarcy: 0.90625, Generator accuracy: 0.09375\n",
            "Epoch 6100, Discriminator accuarcy: 0.90625, Generator accuracy: 0.0\n",
            "Epoch 6200, Discriminator accuarcy: 0.875, Generator accuracy: 0.03125\n",
            "Epoch 6300, Discriminator accuarcy: 0.90625, Generator accuracy: 0.0\n",
            "Epoch 6400, Discriminator accuarcy: 0.90625, Generator accuracy: 0.0625\n",
            "Epoch 6500, Discriminator accuarcy: 0.90625, Generator accuracy: 0.03125\n",
            "Epoch 6600, Discriminator accuarcy: 0.9375, Generator accuracy: 0.03125\n",
            "Epoch 6700, Discriminator accuarcy: 0.84375, Generator accuracy: 0.0\n",
            "Epoch 6800, Discriminator accuarcy: 0.9375, Generator accuracy: 0.0\n",
            "Epoch 6900, Discriminator accuarcy: 0.953125, Generator accuracy: 0.0625\n",
            "Epoch 7000, Discriminator accuarcy: 0.921875, Generator accuracy: 0.09375\n",
            "Epoch 7100, Discriminator accuarcy: 0.875, Generator accuracy: 0.0625\n",
            "Epoch 7200, Discriminator accuarcy: 0.9375, Generator accuracy: 0.0625\n",
            "Epoch 7300, Discriminator accuarcy: 0.953125, Generator accuracy: 0.0625\n",
            "Epoch 7400, Discriminator accuarcy: 0.9375, Generator accuracy: 0.0\n",
            "Epoch 7500, Discriminator accuarcy: 0.953125, Generator accuracy: 0.0\n",
            "Epoch 7600, Discriminator accuarcy: 0.96875, Generator accuracy: 0.0\n",
            "Epoch 7700, Discriminator accuarcy: 0.9375, Generator accuracy: 0.0\n",
            "Epoch 7800, Discriminator accuarcy: 0.9375, Generator accuracy: 0.03125\n",
            "Epoch 7900, Discriminator accuarcy: 0.96875, Generator accuracy: 0.0\n",
            "Epoch 8000, Discriminator accuarcy: 1.0, Generator accuracy: 0.0\n",
            "Epoch 8100, Discriminator accuarcy: 0.875, Generator accuracy: 0.15625\n",
            "Epoch 8200, Discriminator accuarcy: 0.96875, Generator accuracy: 0.0\n",
            "Epoch 8300, Discriminator accuarcy: 0.96875, Generator accuracy: 0.03125\n",
            "Epoch 8400, Discriminator accuarcy: 0.953125, Generator accuracy: 0.03125\n",
            "Epoch 8500, Discriminator accuarcy: 0.859375, Generator accuracy: 0.03125\n",
            "Epoch 8600, Discriminator accuarcy: 0.984375, Generator accuracy: 0.0\n",
            "Epoch 8700, Discriminator accuarcy: 0.890625, Generator accuracy: 0.0\n",
            "Epoch 8800, Discriminator accuarcy: 0.953125, Generator accuracy: 0.0\n",
            "Epoch 8900, Discriminator accuarcy: 0.984375, Generator accuracy: 0.0\n",
            "Epoch 9000, Discriminator accuarcy: 0.90625, Generator accuracy: 0.0\n",
            "Epoch 9100, Discriminator accuarcy: 0.90625, Generator accuracy: 0.0\n",
            "Epoch 9200, Discriminator accuarcy: 0.96875, Generator accuracy: 0.03125\n",
            "Epoch 9300, Discriminator accuarcy: 0.90625, Generator accuracy: 0.0\n",
            "Epoch 9400, Discriminator accuarcy: 0.953125, Generator accuracy: 0.0\n",
            "Epoch 9500, Discriminator accuarcy: 0.96875, Generator accuracy: 0.03125\n",
            "Epoch 9600, Discriminator accuarcy: 0.96875, Generator accuracy: 0.03125\n",
            "Epoch 9700, Discriminator accuarcy: 0.953125, Generator accuracy: 0.03125\n",
            "Epoch 9800, Discriminator accuarcy: 0.96875, Generator accuracy: 0.03125\n",
            "Epoch 9900, Discriminator accuarcy: 0.84375, Generator accuracy: 0.09375\n"
          ],
          "name": "stdout"
        }
      ]
    },
    {
      "cell_type": "code",
      "metadata": {
        "id": "9jYf0oLrxX6g",
        "colab_type": "code",
        "colab": {}
      },
      "source": [
        ""
      ],
      "execution_count": 0,
      "outputs": []
    }
  ]
}